{
 "cells": [
  {
   "cell_type": "code",
   "execution_count": 2,
   "metadata": {},
   "outputs": [],
   "source": [
    "import tensorflow as tf\n",
    "import keras \n",
    "import autokeras as ak\n",
    "import numpy as np\n",
    "##"
   ]
  },
  {
   "cell_type": "code",
   "execution_count": 20,
   "metadata": {},
   "outputs": [],
   "source": [
    "height = 128\n",
    "width = 128\n",
    "batchsize = 64\n",
    "bands = 1"
   ]
  },
  {
   "cell_type": "code",
   "execution_count": 40,
   "metadata": {},
   "outputs": [
    {
     "name": "stdout",
     "output_type": "stream",
     "text": [
      "Found 819 files belonging to 2 classes.\n",
      "Found 535 files belonging to 2 classes.\n"
     ]
    }
   ],
   "source": [
    "#path\n",
    "train_path = \"E:\\jupyter\\hyxen\\openpose_progect\\plankV1_0910\\image\\V12_mask_train_fromV9\"\n",
    "test_path = \"E:\\jupyter\\hyxen\\openpose_progect\\plankV1_0910\\image\\V12_mask_test_fromV9\"\n",
    "#flow\n",
    "data_flow = dict(\n",
    "    image_size = (height,width),\n",
    "    batch_size = batchsize,\n",
    "    color_mode = 'grayscale',\n",
    "    shuffle = True\n",
    ")\n",
    "\n",
    "#data_set\n",
    "train_data = ak.image_dataset_from_directory(train_path,**data_flow)\n",
    "test_data =ak.image_dataset_from_directory(test_path ,**data_flow)\n",
    "    \n",
    "\n",
    "#report setting\n",
    "check_point = keras.callbacks.ModelCheckpoint(\n",
    "    \"E:\\jupyter\\mygithub/auto_keras/callback/plank\",\n",
    "    monitor = \"val_auc\",\n",
    "    verbose = 2,\n",
    "    save_best_only = True,\n",
    ")\n"
   ]
  },
  {
   "cell_type": "code",
   "execution_count": 43,
   "metadata": {},
   "outputs": [
    {
     "name": "stdout",
     "output_type": "stream",
     "text": [
      "Trial 2 Complete [00h 02m 33s]\n",
      "val_loss: 1.9165208339691162\n",
      "\n",
      "Best val_loss So Far: 0.051379136741161346\n",
      "Total elapsed time: 00h 02m 52s\n",
      "\n",
      "Search: Running Trial #3\n",
      "\n",
      "Hyperparameter    |Value             |Best Value So Far \n",
      "image_block_1/b...|efficient         |vanilla           \n",
      "image_block_1/n...|True              |True              \n",
      "image_block_1/a...|True              |False             \n",
      "image_block_1/i...|True              |None              \n",
      "image_block_1/i...|False             |None              \n",
      "image_block_1/i...|0                 |None              \n",
      "image_block_1/i...|0                 |None              \n",
      "image_block_1/i...|0.1               |None              \n",
      "image_block_1/i...|0                 |None              \n",
      "image_block_1/e...|True              |None              \n",
      "image_block_1/e...|b7                |None              \n",
      "image_block_1/e...|True              |None              \n",
      "image_block_1/e...|True              |None              \n",
      "classification_...|global_avg        |flatten           \n",
      "classification_...|0                 |0.5               \n",
      "optimizer         |adam              |adam              \n",
      "learning_rate     |2e-05             |0.001             \n",
      "\n"
     ]
    }
   ],
   "source": [
    "clf = ak.ImageClassifier(\n",
    "    num_classes = 2,\n",
    "    multi_label = False,\n",
    "    loss = \"categorical_crossentropy\",\n",
    "    metrics = ['Precision','Recall'],\n",
    "    project_name = 'plank_ak',\n",
    "    max_trials = 10,\n",
    "    overwrite= True,\n",
    ")\n",
    "clf.fit(train_data ,\n",
    "    epochs = 1 ,\n",
    ")"
   ]
  }
 ],
 "metadata": {
  "interpreter": {
   "hash": "45adf3617c04b25e126d986423ad53568ec425dc7f126772919139fd46c245a4"
  },
  "kernelspec": {
   "display_name": "Python 3.7.9 64-bit ('autokeras': venv)",
   "name": "python3"
  },
  "language_info": {
   "codemirror_mode": {
    "name": "ipython",
    "version": 3
   },
   "file_extension": ".py",
   "mimetype": "text/x-python",
   "name": "python",
   "nbconvert_exporter": "python",
   "pygments_lexer": "ipython3",
   "version": "3.7.9"
  },
  "orig_nbformat": 4
 },
 "nbformat": 4,
 "nbformat_minor": 2
}
