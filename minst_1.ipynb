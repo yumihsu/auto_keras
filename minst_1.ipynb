{
 "cells": [
  {
   "cell_type": "code",
   "execution_count": 6,
   "metadata": {},
   "outputs": [],
   "source": [
    "import tensorflow as tf \n",
    "import autokeras as ak\n",
    "import keras\n",
    "##\n",
    "mnist = tf.keras.datasets.mnist"
   ]
  },
  {
   "cell_type": "markdown",
   "metadata": {},
   "source": []
  },
  {
   "cell_type": "code",
   "execution_count": 7,
   "metadata": {},
   "outputs": [],
   "source": [
    "(x_train , y_train),(x_test ,y_test) = mnist.load_data()"
   ]
  },
  {
   "cell_type": "code",
   "execution_count": 9,
   "metadata": {},
   "outputs": [
    {
     "name": "stdout",
     "output_type": "stream",
     "text": [
      "Trial 1 Complete [00h 12m 10s]\n",
      "val_loss: 0.030347436666488647\n",
      "\n",
      "Best val_loss So Far: 0.030347436666488647\n",
      "Total elapsed time: 00h 12m 10s\n",
      "INFO:tensorflow:Oracle triggered exit\n",
      "Epoch 1/20\n",
      "1875/1875 [==============================] - 48s 25ms/step - loss: 0.1587 - accuracy: 0.9517 - val_loss: 0.0722 - val_accuracy: 0.9753\n",
      "Epoch 2/20\n",
      "1875/1875 [==============================] - 47s 25ms/step - loss: 0.0727 - accuracy: 0.9779 - val_loss: 0.0444 - val_accuracy: 0.9853\n",
      "Epoch 3/20\n",
      "1875/1875 [==============================] - 44s 24ms/step - loss: 0.0592 - accuracy: 0.9817 - val_loss: 0.0441 - val_accuracy: 0.9850\n",
      "Epoch 4/20\n",
      "1875/1875 [==============================] - 46s 24ms/step - loss: 0.0514 - accuracy: 0.9840 - val_loss: 0.0346 - val_accuracy: 0.9880\n",
      "Epoch 5/20\n",
      "1875/1875 [==============================] - 47s 25ms/step - loss: 0.0455 - accuracy: 0.9856 - val_loss: 0.0329 - val_accuracy: 0.9899\n",
      "Epoch 6/20\n",
      "1875/1875 [==============================] - 45s 24ms/step - loss: 0.0414 - accuracy: 0.9866 - val_loss: 0.0334 - val_accuracy: 0.9881\n",
      "Epoch 7/20\n",
      "1875/1875 [==============================] - 45s 24ms/step - loss: 0.0386 - accuracy: 0.9878 - val_loss: 0.0314 - val_accuracy: 0.9888\n",
      "Epoch 8/20\n",
      "1875/1875 [==============================] - 44s 24ms/step - loss: 0.0358 - accuracy: 0.9885 - val_loss: 0.0338 - val_accuracy: 0.9888\n",
      "Epoch 9/20\n",
      "1875/1875 [==============================] - 45s 24ms/step - loss: 0.0318 - accuracy: 0.9896 - val_loss: 0.0326 - val_accuracy: 0.9904\n",
      "Epoch 10/20\n",
      "1875/1875 [==============================] - 45s 24ms/step - loss: 0.0290 - accuracy: 0.9906 - val_loss: 0.0351 - val_accuracy: 0.9892\n",
      "Epoch 11/20\n",
      "1875/1875 [==============================] - 46s 25ms/step - loss: 0.0298 - accuracy: 0.9902 - val_loss: 0.0380 - val_accuracy: 0.9893\n",
      "Epoch 12/20\n",
      "1875/1875 [==============================] - 46s 24ms/step - loss: 0.0278 - accuracy: 0.9910 - val_loss: 0.0325 - val_accuracy: 0.9903\n",
      "Epoch 13/20\n",
      "1875/1875 [==============================] - 45s 24ms/step - loss: 0.0274 - accuracy: 0.9910 - val_loss: 0.0314 - val_accuracy: 0.9898\n",
      "Epoch 14/20\n",
      "1875/1875 [==============================] - 44s 24ms/step - loss: 0.0246 - accuracy: 0.9920 - val_loss: 0.0354 - val_accuracy: 0.9909\n",
      "Epoch 15/20\n",
      "1875/1875 [==============================] - 45s 24ms/step - loss: 0.0247 - accuracy: 0.9921 - val_loss: 0.0335 - val_accuracy: 0.9905\n",
      "Epoch 16/20\n",
      "1875/1875 [==============================] - 45s 24ms/step - loss: 0.0241 - accuracy: 0.9921 - val_loss: 0.0355 - val_accuracy: 0.9908\n",
      "Epoch 17/20\n",
      "1875/1875 [==============================] - 44s 24ms/step - loss: 0.0215 - accuracy: 0.9930 - val_loss: 0.0347 - val_accuracy: 0.9901\n",
      "Epoch 18/20\n",
      "1875/1875 [==============================] - 45s 24ms/step - loss: 0.0228 - accuracy: 0.9926 - val_loss: 0.0381 - val_accuracy: 0.9895\n",
      "Epoch 19/20\n",
      "1875/1875 [==============================] - 44s 24ms/step - loss: 0.0221 - accuracy: 0.9926 - val_loss: 0.0431 - val_accuracy: 0.9898\n",
      "Epoch 20/20\n",
      "1875/1875 [==============================] - 45s 24ms/step - loss: 0.0226 - accuracy: 0.9921 - val_loss: 0.0372 - val_accuracy: 0.9902\n",
      "INFO:tensorflow:Assets written to: .\\image_classifier\\best_model\\assets\n"
     ]
    },
    {
     "data": {
      "text/plain": [
       "<tensorflow.python.keras.callbacks.History at 0x24909533788>"
      ]
     },
     "execution_count": 9,
     "metadata": {},
     "output_type": "execute_result"
    }
   ],
   "source": [
    "clf = ak.ImageClassifier(\n",
    "    overwrite=True,\n",
    "    max_trials= 1\n",
    ")\n",
    "clf.fit(\n",
    "    x_train,y_train,epochs = 20 ,validation_data=(x_test,y_test)\n",
    "    )"
   ]
  }
 ],
 "metadata": {
  "interpreter": {
   "hash": "45adf3617c04b25e126d986423ad53568ec425dc7f126772919139fd46c245a4"
  },
  "kernelspec": {
   "display_name": "Python 3.7.9 64-bit ('autokeras': venv)",
   "name": "python3"
  },
  "language_info": {
   "codemirror_mode": {
    "name": "ipython",
    "version": 3
   },
   "file_extension": ".py",
   "mimetype": "text/x-python",
   "name": "python",
   "nbconvert_exporter": "python",
   "pygments_lexer": "ipython3",
   "version": "3.7.9"
  },
  "orig_nbformat": 4
 },
 "nbformat": 4,
 "nbformat_minor": 2
}
